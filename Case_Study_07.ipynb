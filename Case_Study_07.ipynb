{
 "cells": [
  {
   "cell_type": "code",
   "execution_count": 2,
   "id": "dfb9552c",
   "metadata": {},
   "outputs": [],
   "source": [
    "import pandas as pd\n",
    "import numpy as np\n",
    "import matplotlib.pyplot as plt"
   ]
  },
  {
   "cell_type": "code",
   "execution_count": 35,
   "id": "4fdea60d",
   "metadata": {},
   "outputs": [],
   "source": [
    "data=pd.read_excel('Iris.xls')"
   ]
  },
  {
   "cell_type": "code",
   "execution_count": 26,
   "id": "3daeb2b8",
   "metadata": {},
   "outputs": [
    {
     "data": {
      "text/html": [
       "<div>\n",
       "<style scoped>\n",
       "    .dataframe tbody tr th:only-of-type {\n",
       "        vertical-align: middle;\n",
       "    }\n",
       "\n",
       "    .dataframe tbody tr th {\n",
       "        vertical-align: top;\n",
       "    }\n",
       "\n",
       "    .dataframe thead th {\n",
       "        text-align: right;\n",
       "    }\n",
       "</style>\n",
       "<table border=\"1\" class=\"dataframe\">\n",
       "  <thead>\n",
       "    <tr style=\"text-align: right;\">\n",
       "      <th></th>\n",
       "      <th>SL</th>\n",
       "      <th>SW</th>\n",
       "      <th>PL</th>\n",
       "      <th>PW</th>\n",
       "      <th>Classification</th>\n",
       "    </tr>\n",
       "  </thead>\n",
       "  <tbody>\n",
       "    <tr>\n",
       "      <th>0</th>\n",
       "      <td>5.1</td>\n",
       "      <td>3.5</td>\n",
       "      <td>1.4</td>\n",
       "      <td>0.2</td>\n",
       "      <td>Iris-setosa</td>\n",
       "    </tr>\n",
       "    <tr>\n",
       "      <th>1</th>\n",
       "      <td>4.9</td>\n",
       "      <td>3.0</td>\n",
       "      <td>1.4</td>\n",
       "      <td>0.2</td>\n",
       "      <td>Iris-setosa</td>\n",
       "    </tr>\n",
       "    <tr>\n",
       "      <th>2</th>\n",
       "      <td>4.7</td>\n",
       "      <td>3.2</td>\n",
       "      <td>1.3</td>\n",
       "      <td>0.2</td>\n",
       "      <td>Iris-setosa</td>\n",
       "    </tr>\n",
       "    <tr>\n",
       "      <th>3</th>\n",
       "      <td>4.6</td>\n",
       "      <td>3.1</td>\n",
       "      <td>1.5</td>\n",
       "      <td>0.2</td>\n",
       "      <td>Iris-setosa</td>\n",
       "    </tr>\n",
       "    <tr>\n",
       "      <th>4</th>\n",
       "      <td>5.0</td>\n",
       "      <td>3.6</td>\n",
       "      <td>1.4</td>\n",
       "      <td>0.2</td>\n",
       "      <td>Iris-setosa</td>\n",
       "    </tr>\n",
       "  </tbody>\n",
       "</table>\n",
       "</div>"
      ],
      "text/plain": [
       "    SL   SW   PL   PW Classification\n",
       "0  5.1  3.5  1.4  0.2    Iris-setosa\n",
       "1  4.9  3.0  1.4  0.2    Iris-setosa\n",
       "2  4.7  3.2  1.3  0.2    Iris-setosa\n",
       "3  4.6  3.1  1.5  0.2    Iris-setosa\n",
       "4  5.0  3.6  1.4  0.2    Iris-setosa"
      ]
     },
     "execution_count": 26,
     "metadata": {},
     "output_type": "execute_result"
    }
   ],
   "source": [
    "data.head()"
   ]
  },
  {
   "cell_type": "code",
   "execution_count": 27,
   "id": "b3e1f1bf",
   "metadata": {},
   "outputs": [
    {
     "name": "stdout",
     "output_type": "stream",
     "text": [
      "<class 'pandas.core.frame.DataFrame'>\n",
      "RangeIndex: 150 entries, 0 to 149\n",
      "Data columns (total 5 columns):\n",
      " #   Column          Non-Null Count  Dtype  \n",
      "---  ------          --------------  -----  \n",
      " 0   SL              150 non-null    float64\n",
      " 1   SW              150 non-null    float64\n",
      " 2   PL              150 non-null    float64\n",
      " 3   PW              150 non-null    float64\n",
      " 4   Classification  150 non-null    object \n",
      "dtypes: float64(4), object(1)\n",
      "memory usage: 6.0+ KB\n"
     ]
    }
   ],
   "source": [
    "data.info()"
   ]
  },
  {
   "cell_type": "markdown",
   "id": "0c84ba74",
   "metadata": {},
   "source": [
    "# Pre-Processing"
   ]
  },
  {
   "cell_type": "code",
   "execution_count": 6,
   "id": "c3beceaf",
   "metadata": {},
   "outputs": [
    {
     "data": {
      "text/plain": [
       "SL                0\n",
       "SW                0\n",
       "PL                0\n",
       "PW                0\n",
       "Classification    0\n",
       "dtype: int64"
      ]
     },
     "execution_count": 6,
     "metadata": {},
     "output_type": "execute_result"
    }
   ],
   "source": [
    "data.isnull().sum()"
   ]
  },
  {
   "cell_type": "code",
   "execution_count": 28,
   "id": "d9e8e606",
   "metadata": {},
   "outputs": [
    {
     "data": {
      "text/plain": [
       "{'whiskers': [<matplotlib.lines.Line2D at 0x916d369430>,\n",
       "  <matplotlib.lines.Line2D at 0x916d369790>],\n",
       " 'caps': [<matplotlib.lines.Line2D at 0x916d369af0>,\n",
       "  <matplotlib.lines.Line2D at 0x916d369e50>],\n",
       " 'boxes': [<matplotlib.lines.Line2D at 0x916d3690d0>],\n",
       " 'medians': [<matplotlib.lines.Line2D at 0x916d3761f0>],\n",
       " 'fliers': [<matplotlib.lines.Line2D at 0x916d376550>],\n",
       " 'means': []}"
      ]
     },
     "execution_count": 28,
     "metadata": {},
     "output_type": "execute_result"
    },
    {
     "data": {
      "image/png": "[encoded data removed]",
      "text/plain": [
       "<Figure size 432x288 with 1 Axes>"
      ]
     },
     "metadata": {
      "needs_background": "light"
     },
     "output_type": "display_data"
    }
   ],
   "source": [
    "plt.boxplot(data['PW'])"
   ]
  },
  {
   "cell_type": "code",
   "execution_count": 15,
   "id": "ee10adca",
   "metadata": {},
   "outputs": [
    {
     "data": {
      "text/plain": [
       "{'whiskers': [<matplotlib.lines.Line2D at 0x916c8c9e20>,\n",
       "  <matplotlib.lines.Line2D at 0x916c8d61c0>],\n",
       " 'caps': [<matplotlib.lines.Line2D at 0x916c8d6520>,\n",
       "  <matplotlib.lines.Line2D at 0x916c8d6880>],\n",
       " 'boxes': [<matplotlib.lines.Line2D at 0x916c8c9ac0>],\n",
       " 'medians': [<matplotlib.lines.Line2D at 0x916c8d6be0>],\n",
       " 'fliers': [<matplotlib.lines.Line2D at 0x916c8d6f40>],\n",
       " 'means': []}"
      ]
     },
     "execution_count": 15,
     "metadata": {},
     "output_type": "execute_result"
    },
    {
     "data": {
      "image/png": "[encoded data removed]",
      "text/plain": [
       "<Figure size 432x288 with 1 Axes>"
      ]
     },
     "metadata": {
      "needs_background": "light"
     },
     "output_type": "display_data"
    }
   ],
   "source": [
    "plt.boxplot(data['PL'])"
   ]
  },
  {
   "cell_type": "code",
   "execution_count": 16,
   "id": "85b58bf3",
   "metadata": {},
   "outputs": [
    {
     "data": {
      "text/plain": [
       "{'whiskers': [<matplotlib.lines.Line2D at 0x916c92edc0>,\n",
       "  <matplotlib.lines.Line2D at 0x916c93d160>],\n",
       " 'caps': [<matplotlib.lines.Line2D at 0x916c93d4c0>,\n",
       "  <matplotlib.lines.Line2D at 0x916c93d820>],\n",
       " 'boxes': [<matplotlib.lines.Line2D at 0x916c92ea60>],\n",
       " 'medians': [<matplotlib.lines.Line2D at 0x916c93db80>],\n",
       " 'fliers': [<matplotlib.lines.Line2D at 0x916c93dee0>],\n",
       " 'means': []}"
      ]
     },
     "execution_count": 16,
     "metadata": {},
     "output_type": "execute_result"
    },
    {
     "data": {
      "image/png": "[encoded data removed]",
      "text/plain": [
       "<Figure size 432x288 with 1 Axes>"
      ]
     },
     "metadata": {
      "needs_background": "light"
     },
     "output_type": "display_data"
    }
   ],
   "source": [
    "plt.boxplot(data['SL'])"
   ]
  },
  {
   "cell_type": "code",
   "execution_count": 36,
   "id": "4fa08d7d",
   "metadata": {},
   "outputs": [
    {
     "data": {
      "text/plain": [
       "{'whiskers': [<matplotlib.lines.Line2D at 0x916d47fc70>,\n",
       "  <matplotlib.lines.Line2D at 0x916d47ffd0>],\n",
       " 'caps': [<matplotlib.lines.Line2D at 0x916d48c370>,\n",
       "  <matplotlib.lines.Line2D at 0x916d48c6d0>],\n",
       " 'boxes': [<matplotlib.lines.Line2D at 0x916d47f910>],\n",
       " 'medians': [<matplotlib.lines.Line2D at 0x916d48ca30>],\n",
       " 'fliers': [<matplotlib.lines.Line2D at 0x916d48cd90>],\n",
       " 'means': []}"
      ]
     },
     "execution_count": 36,
     "metadata": {},
     "output_type": "execute_result"
    },
    {
     "data": {
      "image/png": "[encoded data removed]",
      "text/plain": [
       "<Figure size 432x288 with 1 Axes>"
      ]
     },
     "metadata": {
      "needs_background": "light"
     },
     "output_type": "display_data"
    }
   ],
   "source": [
    "plt.boxplot(data['SW'])"
   ]
  },
  {
   "cell_type": "code",
   "execution_count": 37,
   "id": "d95ab244",
   "metadata": {},
   "outputs": [
    {
     "name": "stdout",
     "output_type": "stream",
     "text": [
      "Upper Limit: 4.05\n",
      "Lower Limit: 2.05\n"
     ]
    }
   ],
   "source": [
    "q1=np.percentile(data['SW'],25,interpolation='midpoint')\n",
    "q3=np.percentile(data['SW'],75,interpolation='midpoint')\n",
    "print('Upper Limit:',q3+1.5*(q3-q1))\n",
    "print('Lower Limit:',q1-1.5*(q3-q1))"
   ]
  },
  {
   "cell_type": "code",
   "execution_count": 38,
   "id": "956c5521",
   "metadata": {},
   "outputs": [
    {
     "data": {
      "text/plain": [
       "[4.4, 4.1, 4.2, 2.0]"
      ]
     },
     "execution_count": 38,
     "metadata": {},
     "output_type": "execute_result"
    }
   ],
   "source": [
    "outlier=[]\n",
    "for x in data['SW']:\n",
    "    if(x>q3+1.5*(q3-q1) or x<q1-1.5*(q3-q1)):\n",
    "        outlier.append(x)\n",
    "outlier"
   ]
  },
  {
   "cell_type": "code",
   "execution_count": 41,
   "id": "29dab218",
   "metadata": {},
   "outputs": [
    {
     "name": "stdout",
     "output_type": "stream",
     "text": [
      "Int64Index([15, 32, 33, 60], dtype='int64')\n"
     ]
    },
    {
     "data": {
      "text/plain": [
       "{'whiskers': [<matplotlib.lines.Line2D at 0x916d586bb0>,\n",
       "  <matplotlib.lines.Line2D at 0x916d586f10>],\n",
       " 'caps': [<matplotlib.lines.Line2D at 0x916d5912b0>,\n",
       "  <matplotlib.lines.Line2D at 0x916d591610>],\n",
       " 'boxes': [<matplotlib.lines.Line2D at 0x916d586850>],\n",
       " 'medians': [<matplotlib.lines.Line2D at 0x916d591970>],\n",
       " 'fliers': [<matplotlib.lines.Line2D at 0x916d591cd0>],\n",
       " 'means': []}"
      ]
     },
     "execution_count": 41,
     "metadata": {},
     "output_type": "execute_result"
    },
    {
     "data": {
      "image/png": "[encoded data removed]",
      "text/plain": [
       "<Figure size 432x288 with 1 Axes>"
      ]
     },
     "metadata": {
      "needs_background": "light"
     },
     "output_type": "display_data"
    }
   ],
   "source": [
    "out=data[(data['SW']<q1-1.5*(q3-q1))|(data['SW']>(q3+1.5*(q3-q1)))]\n",
    "ary=out.index\n",
    "print(ary)\n",
    "data.drop(ary,inplace=True)\n",
    "plt.boxplot(data['SW'])"
   ]
  },
  {
   "cell_type": "markdown",
   "id": "ac43e111",
   "metadata": {},
   "source": [
    "# Modelling"
   ]
  },
  {
   "cell_type": "code",
   "execution_count": 42,
   "id": "6d8a13ca",
   "metadata": {},
   "outputs": [
    {
     "data": {
      "text/plain": [
       "Index(['SL', 'SW', 'PL', 'PW'], dtype='object')"
      ]
     },
     "execution_count": 42,
     "metadata": {},
     "output_type": "execute_result"
    }
   ],
   "source": [
    "x = data.drop(['Classification'], axis =1)\n",
    "x.columns"
   ]
  },
  {
   "cell_type": "code",
   "execution_count": 43,
   "id": "c66b91bc",
   "metadata": {},
   "outputs": [],
   "source": [
    "y=data['Classification']"
   ]
  },
  {
   "cell_type": "code",
   "execution_count": 44,
   "id": "d9ee6524",
   "metadata": {},
   "outputs": [
    {
     "name": "stdout",
     "output_type": "stream",
     "text": [
      "The nummber of samples in training set is 109\n",
      "The nummber of samples in testing set is 37\n"
     ]
    }
   ],
   "source": [
    "from sklearn.model_selection import train_test_split\n",
    "x_train, x_test, y_train, y_test = train_test_split(x, y, random_state=42, test_size=0.25)\n",
    "print(\"The nummber of samples in training set is\",x_train.shape[0])\n",
    "print (\"The nummber of samples in testing set is\",x_test.shape[0])"
   ]
  },
  {
   "cell_type": "markdown",
   "id": "974ad9b0",
   "metadata": {},
   "source": [
    "Decision Tree Model"
   ]
  },
  {
   "cell_type": "code",
   "execution_count": 45,
   "id": "ce54425f",
   "metadata": {},
   "outputs": [
    {
     "data": {
      "text/plain": [
       "DecisionTreeClassifier()"
      ]
     },
     "execution_count": 45,
     "metadata": {},
     "output_type": "execute_result"
    }
   ],
   "source": [
    "from sklearn.tree import DecisionTreeClassifier\n",
    "dt_model = DecisionTreeClassifier()\n",
    "dt_model.fit(x_train,y_train)"
   ]
  },
  {
   "cell_type": "code",
   "execution_count": 53,
   "id": "e3b5eb04",
   "metadata": {},
   "outputs": [
    {
     "name": "stdout",
     "output_type": "stream",
     "text": [
      "Accuracy of Decisioin Tree= 94.59\n"
     ]
    }
   ],
   "source": [
    "from sklearn.metrics import accuracy_score\n",
    "y_pred = dt_model.predict(x_test)\n",
    "acc=accuracy_score(y_test,y_pred)\n",
    "acc=round(acc*100,2)\n",
    "print('Accuracy of Decisioin Tree=',acc)"
   ]
  },
  {
   "cell_type": "markdown",
   "id": "74c4a039",
   "metadata": {},
   "source": [
    "SVM Model"
   ]
  },
  {
   "cell_type": "code",
   "execution_count": 50,
   "id": "f4657fc0",
   "metadata": {},
   "outputs": [
    {
     "name": "stdout",
     "output_type": "stream",
     "text": [
      "accuracy of SVM Model= 97.3\n"
     ]
    }
   ],
   "source": [
    "svm_linear = SVC(kernel = 'linear')\n",
    "svm_linear.fit(x_train,y_train)\n",
    "y_pred = svm_linear.predict(x_test)\n",
    "acc=accuracy_score(y_test,y_pred)\n",
    "acc=round(acc*100,2)\n",
    "print('Accuracy of SVM Model=',acc)"
   ]
  },
  {
   "cell_type": "markdown",
   "id": "7e65605a",
   "metadata": {},
   "source": [
    "Random Forest Model"
   ]
  },
  {
   "cell_type": "code",
   "execution_count": 51,
   "id": "64284aaf",
   "metadata": {},
   "outputs": [
    {
     "name": "stdout",
     "output_type": "stream",
     "text": [
      "Accuracy of Random Forest Model= 94.59\n"
     ]
    }
   ],
   "source": [
    "rf = RandomForestClassifier()\n",
    "rf.fit(x_train,y_train)\n",
    "y_pred=rf.predict(x_test)\n",
    "acc=accuracy_score(y_test,y_pred)\n",
    "acc=round(acc*100,2)\n",
    "print('Accuracy of Random Forest Model=',acc)"
   ]
  },
  {
   "cell_type": "markdown",
   "id": "e4373e7b",
   "metadata": {},
   "source": [
    "We can say that SVM model is a efficient model while compared to Random Forest and Decision tree models"
   ]
  },
  {
   "cell_type": "code",
   "execution_count": null,
   "id": "d053d74c",
   "metadata": {},
   "outputs": [],
   "source": []
  }
 ],
 "metadata": {
  "kernelspec": {
   "display_name": "Python 3",
   "language": "python",
   "name": "python3"
  },
  "language_info": {
   "codemirror_mode": {
    "name": "ipython",
    "version": 3
   },
   "file_extension": ".py",
   "mimetype": "text/x-python",
   "name": "python",
   "nbconvert_exporter": "python",
   "pygments_lexer": "ipython3",
   "version": "3.8.8"
  }
 },
 "nbformat": 4,
 "nbformat_minor": 5
}
